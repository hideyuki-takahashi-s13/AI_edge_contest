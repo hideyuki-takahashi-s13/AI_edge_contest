{
 "cells": [
  {
   "cell_type": "markdown",
   "metadata": {},
   "source": [
    "# 学習準備"
   ]
  },
  {
   "cell_type": "markdown",
   "metadata": {},
   "source": [
    "### 下記ツールをインストールする。\n",
    "- runx: https://github.com/NVIDIA/runx\n",
    "- apex: https://github.com/NVIDIA/apex"
   ]
  },
  {
   "cell_type": "code",
   "execution_count": 5,
   "metadata": {
    "colab": {
     "base_uri": "https://localhost:8080/",
     "height": 462
    },
    "executionInfo": {
     "elapsed": 7303,
     "status": "ok",
     "timestamp": 1603918045620,
     "user": {
      "displayName": "s13sil1",
      "photoUrl": "",
      "userId": "07274009216271418896"
     },
     "user_tz": -540
    },
    "id": "rgbkmh6LAxps",
    "outputId": "30d99812-6f5c-4d19-dda8-aff148e0f035"
   },
   "outputs": [],
   "source": [
    "#runxをインストール\n",
    "pip install runx==0.0.6"
   ]
  },
  {
   "cell_type": "code",
   "execution_count": null,
   "metadata": {},
   "outputs": [],
   "source": [
    "#apexをクローン\n",
    "git clone https://github.com/NVIDIA/apex"
   ]
  },
  {
   "cell_type": "code",
   "execution_count": 4,
   "metadata": {
    "colab": {
     "base_uri": "https://localhost:8080/",
     "height": 34
    },
    "executionInfo": {
     "elapsed": 826,
     "status": "ok",
     "timestamp": 1603918052181,
     "user": {
      "displayName": "s13sil1",
      "photoUrl": "",
      "userId": "07274009216271418896"
     },
     "user_tz": -540
    },
    "id": "dM1r9zPrSmmm",
    "outputId": "977ff27d-525b-4223-ad33-1d989f3060c0"
   },
   "outputs": [],
   "source": [
    "#apexに移動\n",
    "cd apex"
   ]
  },
  {
   "cell_type": "code",
   "execution_count": 3,
   "metadata": {
    "colab": {
     "base_uri": "https://localhost:8080/",
     "height": 1000
    },
    "executionInfo": {
     "elapsed": 527206,
     "status": "ok",
     "timestamp": 1603918580211,
     "user": {
      "displayName": "s13sil1",
      "photoUrl": "",
      "userId": "07274009216271418896"
     },
     "user_tz": -540
    },
    "id": "HwDyaSYcS7k2",
    "outputId": "4ed5ecdc-049a-44cc-c404-3c0eaa7559d8"
   },
   "outputs": [],
   "source": [
    "#apexをインストール\n",
    "pip install -v --no-cache-dir --global-option=\"--cpp_ext\" --global-option=\"--cuda_ext\" ./"
   ]
  },
  {
   "cell_type": "code",
   "execution_count": 2,
   "metadata": {
    "colab": {
     "base_uri": "https://localhost:8080/",
     "height": 34
    },
    "executionInfo": {
     "elapsed": 1081,
     "status": "ok",
     "timestamp": 1603918587889,
     "user": {
      "displayName": "s13sil1",
      "photoUrl": "",
      "userId": "07274009216271418896"
     },
     "user_tz": -540
    },
    "id": "DbfoysYS2vbH",
    "outputId": "fda6035c-40e4-4154-9e65-04761efd0fd0"
   },
   "outputs": [],
   "source": [
    "#runに移動\n",
    "cd ../run"
   ]
  },
  {
   "cell_type": "code",
   "execution_count": null,
   "metadata": {},
   "outputs": [],
   "source": []
  },
  {
   "cell_type": "markdown",
   "metadata": {},
   "source": [
    "# 学習"
   ]
  },
  {
   "cell_type": "code",
   "execution_count": 1,
   "metadata": {
    "colab": {
     "base_uri": "https://localhost:8080/",
     "height": 1000
    },
    "id": "U1PkFWcQemqu",
    "outputId": "a2dfc252-d351-40de-ae4d-73699b218a83"
   },
   "outputs": [],
   "source": [
    "#学習を実行\n",
    "# .ymlファイルを編集することで、パラメータ等の引数を変更することが可能。\n",
    "!python -m runx.runx scripts/train_cityscapes.yml -i"
   ]
  },
  {
   "cell_type": "code",
   "execution_count": null,
   "metadata": {
    "id": "Uxl_lsHiU3Oy"
   },
   "outputs": [],
   "source": []
  },
  {
   "cell_type": "markdown",
   "metadata": {},
   "source": [
    "# 推論"
   ]
  },
  {
   "cell_type": "code",
   "execution_count": null,
   "metadata": {},
   "outputs": [],
   "source": [
    "#推論を実行\n",
    "# .ymlファイルを編集することで、パラメータ等の引数を変更することが可能。\n",
    "!python -m runx.runx scripts/dump_folder.yml -i"
   ]
  },
  {
   "cell_type": "code",
   "execution_count": null,
   "metadata": {},
   "outputs": [],
   "source": []
  },
  {
   "cell_type": "code",
   "execution_count": null,
   "metadata": {},
   "outputs": [],
   "source": []
  }
 ],
 "metadata": {
  "accelerator": "GPU",
  "colab": {
   "authorship_tag": "ABX9TyM1cSyrowxSN9H/zsYr9TtZ",
   "machine_shape": "hm",
   "mount_file_id": "1nSDDRwM_MUXpGSEW4NyHYzrWFWBe3MZh",
   "name": "HMSA.ipynb",
   "provenance": []
  },
  "kernelspec": {
   "display_name": "Python 3",
   "language": "python",
   "name": "python3"
  },
  "language_info": {
   "codemirror_mode": {
    "name": "ipython",
    "version": 3
   },
   "file_extension": ".py",
   "mimetype": "text/x-python",
   "name": "python",
   "nbconvert_exporter": "python",
   "pygments_lexer": "ipython3",
   "version": "3.7.7"
  }
 },
 "nbformat": 4,
 "nbformat_minor": 1
}
